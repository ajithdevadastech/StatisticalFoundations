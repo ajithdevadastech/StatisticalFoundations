{
 "cells": [
  {
   "cell_type": "markdown",
   "id": "26683de2",
   "metadata": {},
   "source": [
    "# In this demo, you will be shown how to implement negative binomial distribution.\n",
    "\n",
    "Question:\n",
    "A student gets three questions right of every five questions. If X is the number of attempts until the 12th correct answer, what is the probability of the student attempting 20 questions until 12th correct answer?"
   ]
  },
  {
   "cell_type": "code",
   "execution_count": null,
   "id": "0e896e53",
   "metadata": {},
   "outputs": [],
   "source": [
    "#Step 1: Plot the negative binomial distribution using random variates"
   ]
  },
  {
   "cell_type": "code",
   "execution_count": 3,
   "id": "e93b8ca7",
   "metadata": {},
   "outputs": [
    {
     "name": "stderr",
     "output_type": "stream",
     "text": [
      "C:\\Users\\adevdas\\AppData\\Local\\Temp\\ipykernel_18724\\3870463243.py:4: UserWarning: \n",
      "\n",
      "`distplot` is a deprecated function and will be removed in seaborn v0.14.0.\n",
      "\n",
      "Please adapt your code to use either `displot` (a figure-level function with\n",
      "similar flexibility) or `histplot` (an axes-level function for histograms).\n",
      "\n",
      "For a guide to updating your code to use the new functions, please see\n",
      "https://gist.github.com/mwaskom/de44147ed2974457ad6372750bbe5751\n",
      "\n",
      "  ax = sns.distplot(data_nbinom,\n"
     ]
    },
    {
     "data": {
      "text/plain": [
       "<Axes: xlabel='Negative Binomial Distribution', ylabel='Frequency'>"
      ]
     },
     "execution_count": 3,
     "metadata": {},
     "output_type": "execute_result"
    },
    {
     "data": {
      "image/png": "[encoded data removed]",
      "text/plain": [
       "<Figure size 640x480 with 1 Axes>"
      ]
     },
     "metadata": {},
     "output_type": "display_data"
    }
   ],
   "source": [
    "import seaborn as sns\n",
    "from scipy.stats import nbinom\n",
    "data_nbinom = nbinom.rvs(n=12,p=0.6,size=1000)\n",
    "ax = sns.distplot(data_nbinom,\n",
    "                  bins = 100,\n",
    "                  kde=False,\n",
    "                  color='green',\n",
    "                  hist_kws={\"linewidth\": 5,'alpha':1})\n",
    "ax.set(xlabel='Negative Binomial Distribution', ylabel='Frequency')\n",
    "ax"
   ]
  },
  {
   "cell_type": "code",
   "execution_count": 1,
   "id": "7d32b0ed",
   "metadata": {},
   "outputs": [],
   "source": [
    "#Step 2: Calculate pmf of negative binomial distribution"
   ]
  },
  {
   "cell_type": "code",
   "execution_count": 4,
   "id": "48cc8244",
   "metadata": {},
   "outputs": [
    {
     "data": {
      "text/plain": [
       "0.10782347265281358"
      ]
     },
     "execution_count": 4,
     "metadata": {},
     "output_type": "execute_result"
    }
   ],
   "source": [
    "#Here parameter passed are k=8, n=12, p=0.6\n",
    "nbinom.pmf(8,12,0.6)"
   ]
  },
  {
   "cell_type": "code",
   "execution_count": 5,
   "id": "b02fbb77",
   "metadata": {},
   "outputs": [],
   "source": [
    "#Step 3: Calculate mean and variance"
   ]
  },
  {
   "cell_type": "code",
   "execution_count": 6,
   "id": "4d1d5226",
   "metadata": {},
   "outputs": [
    {
     "data": {
      "text/plain": [
       "8.000000000000002"
      ]
     },
     "execution_count": 6,
     "metadata": {},
     "output_type": "execute_result"
    }
   ],
   "source": [
    "n, p = 12, 0.6\n",
    "nbinom.mean(n,p,loc=0)"
   ]
  },
  {
   "cell_type": "code",
   "execution_count": 7,
   "id": "cff4cff6",
   "metadata": {},
   "outputs": [
    {
     "data": {
      "text/plain": [
       "13.333333333333336"
      ]
     },
     "execution_count": 7,
     "metadata": {},
     "output_type": "execute_result"
    }
   ],
   "source": [
    "nbinom.var(n,p,loc=0)"
   ]
  }
 ],
 "metadata": {
  "kernelspec": {
   "display_name": "Python 3 (ipykernel)",
   "language": "python",
   "name": "python3"
  },
  "language_info": {
   "codemirror_mode": {
    "name": "ipython",
    "version": 3
   },
   "file_extension": ".py",
   "mimetype": "text/x-python",
   "name": "python",
   "nbconvert_exporter": "python",
   "pygments_lexer": "ipython3",
   "version": "3.11.5"
  }
 },
 "nbformat": 4,
 "nbformat_minor": 5
}
