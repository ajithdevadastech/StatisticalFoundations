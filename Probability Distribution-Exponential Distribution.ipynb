{
 "cells": [
  {
   "cell_type": "markdown",
   "id": "5ae7c8f4",
   "metadata": {},
   "source": [
    "# Question:\n",
    "The life span of an electronic component follows an exponential distribution with a mean lifetime of 120 hours. Determine the probability of a component failing in the first 100 hours of use and also calculate mean and variance.\n",
    "\n",
    "Solution:\n",
    "Step 1: Plot the exponential distribution using random variates"
   ]
  },
  {
   "cell_type": "code",
   "execution_count": 1,
   "id": "2168db60",
   "metadata": {},
   "outputs": [
    {
     "name": "stderr",
     "output_type": "stream",
     "text": [
      "C:\\Users\\adevdas\\AppData\\Local\\Temp\\ipykernel_77460\\2794799854.py:4: UserWarning: \n",
      "\n",
      "`distplot` is a deprecated function and will be removed in seaborn v0.14.0.\n",
      "\n",
      "Please adapt your code to use either `displot` (a figure-level function with\n",
      "similar flexibility) or `histplot` (an axes-level function for histograms).\n",
      "\n",
      "For a guide to updating your code to use the new functions, please see\n",
      "https://gist.github.com/mwaskom/de44147ed2974457ad6372750bbe5751\n",
      "\n",
      "  ax = sns.distplot(data_expon,\n"
     ]
    },
    {
     "data": {
      "text/plain": [
       "<Axes: xlabel='Exponential Distribution', ylabel='Frequency'>"
      ]
     },
     "execution_count": 1,
     "metadata": {},
     "output_type": "execute_result"
    },
    {
     "data": {
      "image/png": "[encoded data removed]",
      "text/plain": [
       "<Figure size 640x480 with 1 Axes>"
      ]
     },
     "metadata": {},
     "output_type": "display_data"
    }
   ],
   "source": [
    "import seaborn as sns\n",
    "from scipy.stats import expon\n",
    "data_expon = expon.rvs(scale=120,loc=0,size=100)\n",
    "ax = sns.distplot(data_expon,\n",
    "                  kde=False,\n",
    "                  bins=100,\n",
    "                  color='grey',\n",
    "                  hist_kws={\"linewidth\": 15,'alpha':1})\n",
    "ax.set(xlabel='Exponential Distribution', ylabel='Frequency')\n",
    "ax"
   ]
  },
  {
   "cell_type": "markdown",
   "id": "f5b585fa",
   "metadata": {},
   "source": [
    "# Step 2: Calculate cdf of uniform distribution"
   ]
  },
  {
   "cell_type": "code",
   "execution_count": 2,
   "id": "5f892a94",
   "metadata": {},
   "outputs": [
    {
     "data": {
      "text/plain": [
       "0.5654017914929218"
      ]
     },
     "execution_count": 2,
     "metadata": {},
     "output_type": "execute_result"
    }
   ],
   "source": [
    "#for x=100,loc=0,scale=120\n",
    "expon.cdf(100,0,120)"
   ]
  },
  {
   "cell_type": "markdown",
   "id": "686634ca",
   "metadata": {},
   "source": [
    "# Step 3: Calculate mean and variance"
   ]
  },
  {
   "cell_type": "code",
   "execution_count": 3,
   "id": "72ae2c07",
   "metadata": {},
   "outputs": [
    {
     "data": {
      "text/plain": [
       "120.0"
      ]
     },
     "execution_count": 3,
     "metadata": {},
     "output_type": "execute_result"
    }
   ],
   "source": [
    "expon.mean(loc=0,scale=120)"
   ]
  },
  {
   "cell_type": "code",
   "execution_count": 4,
   "id": "92eb8bc9",
   "metadata": {},
   "outputs": [
    {
     "data": {
      "text/plain": [
       "14400.0"
      ]
     },
     "execution_count": 4,
     "metadata": {},
     "output_type": "execute_result"
    }
   ],
   "source": [
    "expon.var(loc=0,scale=120)"
   ]
  }
 ],
 "metadata": {
  "kernelspec": {
   "display_name": "Python 3 (ipykernel)",
   "language": "python",
   "name": "python3"
  },
  "language_info": {
   "codemirror_mode": {
    "name": "ipython",
    "version": 3
   },
   "file_extension": ".py",
   "mimetype": "text/x-python",
   "name": "python",
   "nbconvert_exporter": "python",
   "pygments_lexer": "ipython3",
   "version": "3.11.5"
  }
 },
 "nbformat": 4,
 "nbformat_minor": 5
}
