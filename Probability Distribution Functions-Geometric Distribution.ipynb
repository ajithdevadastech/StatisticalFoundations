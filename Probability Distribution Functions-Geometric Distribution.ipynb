{
 "cells": [
  {
   "cell_type": "markdown",
   "id": "6e21401f",
   "metadata": {},
   "source": [
    "# In this demo, you will be shown how to implement geometric distribution.\n",
    "\n",
    "Question:\n",
    "A company manufactures a certain electronic component and each component is tested. The probability of one electronic component being defective is 0.05. Determine the probability of the first defect being found in the eighth component tested. Also determine the random variable’s expected value and variance."
   ]
  },
  {
   "cell_type": "code",
   "execution_count": 1,
   "id": "294d2f78",
   "metadata": {},
   "outputs": [],
   "source": [
    "#Step 1: Plot geometric distribution using random variates\n"
   ]
  },
  {
   "cell_type": "code",
   "execution_count": 2,
   "id": "1f083db6",
   "metadata": {},
   "outputs": [
    {
     "name": "stderr",
     "output_type": "stream",
     "text": [
      "C:\\Users\\adevdas\\AppData\\Local\\Temp\\ipykernel_56840\\1895204200.py:4: UserWarning: \n",
      "\n",
      "`distplot` is a deprecated function and will be removed in seaborn v0.14.0.\n",
      "\n",
      "Please adapt your code to use either `displot` (a figure-level function with\n",
      "similar flexibility) or `histplot` (an axes-level function for histograms).\n",
      "\n",
      "For a guide to updating your code to use the new functions, please see\n",
      "https://gist.github.com/mwaskom/de44147ed2974457ad6372750bbe5751\n",
      "\n",
      "  ax = sns.distplot(data_geom,\n"
     ]
    },
    {
     "data": {
      "text/plain": [
       "<Axes: xlabel='Geometric Distribution', ylabel='Frequency'>"
      ]
     },
     "execution_count": 2,
     "metadata": {},
     "output_type": "execute_result"
    },
    {
     "data": {
      "image/png": "[encoded data removed]",
      "text/plain": [
       "<Figure size 640x480 with 1 Axes>"
      ]
     },
     "metadata": {},
     "output_type": "display_data"
    }
   ],
   "source": [
    "import seaborn as sns\n",
    "from scipy.stats import geom\n",
    "data_geom = geom.rvs(p=0.05 , size=10000)\n",
    "ax = sns.distplot(data_geom,\n",
    "                  bins=30,\n",
    "                  kde=False,\n",
    "                  color='green',\n",
    "                  hist_kws={\"linewidth\": 15,'alpha':1})\n",
    "ax.set(xlabel='Geometric Distribution', ylabel='Frequency')\n",
    "ax"
   ]
  },
  {
   "cell_type": "code",
   "execution_count": 3,
   "id": "a7b05e9a",
   "metadata": {},
   "outputs": [],
   "source": [
    "#Step 2: Calculate pmf of geometric distribution"
   ]
  },
  {
   "cell_type": "code",
   "execution_count": 4,
   "id": "5b5da9b4",
   "metadata": {},
   "outputs": [
    {
     "data": {
      "text/plain": [
       "0.03491686480468749"
      ]
     },
     "execution_count": 4,
     "metadata": {},
     "output_type": "execute_result"
    }
   ],
   "source": [
    "#Here parameter passed are k=8, p=0.05\n",
    "geom.pmf(8,0.05,loc = 0)"
   ]
  },
  {
   "cell_type": "code",
   "execution_count": 5,
   "id": "270b6acb",
   "metadata": {},
   "outputs": [],
   "source": [
    "#Step 3: Calculate mean and variance"
   ]
  },
  {
   "cell_type": "code",
   "execution_count": 6,
   "id": "31947e4a",
   "metadata": {},
   "outputs": [
    {
     "data": {
      "text/plain": [
       "20.0"
      ]
     },
     "execution_count": 6,
     "metadata": {},
     "output_type": "execute_result"
    }
   ],
   "source": [
    "p=0.05 \n",
    "geom.mean(p, loc=0)"
   ]
  },
  {
   "cell_type": "code",
   "execution_count": 7,
   "id": "550e0648",
   "metadata": {},
   "outputs": [
    {
     "data": {
      "text/plain": [
       "379.9999999999999"
      ]
     },
     "execution_count": 7,
     "metadata": {},
     "output_type": "execute_result"
    }
   ],
   "source": [
    "geom.var(p, loc=0)"
   ]
  }
 ],
 "metadata": {
  "kernelspec": {
   "display_name": "Python 3 (ipykernel)",
   "language": "python",
   "name": "python3"
  },
  "language_info": {
   "codemirror_mode": {
    "name": "ipython",
    "version": 3
   },
   "file_extension": ".py",
   "mimetype": "text/x-python",
   "name": "python",
   "nbconvert_exporter": "python",
   "pygments_lexer": "ipython3",
   "version": "3.11.5"
  }
 },
 "nbformat": 4,
 "nbformat_minor": 5
}
