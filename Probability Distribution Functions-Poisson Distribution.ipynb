{
 "cells": [
  {
   "cell_type": "markdown",
   "id": "1077b88e",
   "metadata": {},
   "source": [
    "# In this demo, you will be shown how to implement poisson distribution.\n",
    "\n",
    "Question:\n",
    "A restaurant gets an average of 2.8 customers approaching the register every minute. What is the probability that 4 customers approach the register in the next minute? Also calculate mean and variance."
   ]
  },
  {
   "cell_type": "code",
   "execution_count": 1,
   "id": "c0581cf5",
   "metadata": {},
   "outputs": [],
   "source": [
    "#Step 1: Plot the poisson distribution by random variates"
   ]
  },
  {
   "cell_type": "code",
   "execution_count": 4,
   "id": "26cd52b2",
   "metadata": {},
   "outputs": [
    {
     "name": "stderr",
     "output_type": "stream",
     "text": [
      "C:\\Users\\adevdas\\AppData\\Local\\Temp\\ipykernel_55368\\3007286158.py:4: UserWarning: \n",
      "\n",
      "`distplot` is a deprecated function and will be removed in seaborn v0.14.0.\n",
      "\n",
      "Please adapt your code to use either `displot` (a figure-level function with\n",
      "similar flexibility) or `histplot` (an axes-level function for histograms).\n",
      "\n",
      "For a guide to updating your code to use the new functions, please see\n",
      "https://gist.github.com/mwaskom/de44147ed2974457ad6372750bbe5751\n",
      "\n",
      "  ax = sns.distplot(data_poisson,\n"
     ]
    },
    {
     "data": {
      "text/plain": [
       "<Axes: xlabel='Poisson Distribution', ylabel='Frequency'>"
      ]
     },
     "execution_count": 4,
     "metadata": {},
     "output_type": "execute_result"
    },
    {
     "data": {
      "image/png": "[encoded data removed]",
      "text/plain": [
       "<Figure size 640x480 with 1 Axes>"
      ]
     },
     "metadata": {},
     "output_type": "display_data"
    }
   ],
   "source": [
    "import seaborn as sns\n",
    "from scipy.stats import poisson\n",
    "data_poisson = poisson.rvs(mu=2.8, size=10000)\n",
    "ax = sns.distplot(data_poisson,\n",
    "                  bins=30,\n",
    "                  kde=False,\n",
    "                  color='green',\n",
    "                  hist_kws={\"linewidth\": 15,'alpha':1})\n",
    "ax.set(xlabel='Poisson Distribution', ylabel='Frequency')\n",
    "ax"
   ]
  },
  {
   "cell_type": "code",
   "execution_count": 5,
   "id": "80bb54d6",
   "metadata": {},
   "outputs": [],
   "source": [
    "#Step 2: Calculate pmf of poisson distribution"
   ]
  },
  {
   "cell_type": "code",
   "execution_count": 6,
   "id": "679a784f",
   "metadata": {},
   "outputs": [
    {
     "data": {
      "text/plain": [
       "0.15573862438735817"
      ]
     },
     "execution_count": 6,
     "metadata": {},
     "output_type": "execute_result"
    }
   ],
   "source": [
    "#here passed parameter are k=4, mu=2.8\n",
    "poisson.pmf(4,2.8)"
   ]
  },
  {
   "cell_type": "markdown",
   "id": "7b6839d4",
   "metadata": {},
   "source": [
    "# Step 3: Calculate mean and variance\n",
    "Here, mean and variance is mu, that is, 2.8."
   ]
  }
 ],
 "metadata": {
  "kernelspec": {
   "display_name": "Python 3 (ipykernel)",
   "language": "python",
   "name": "python3"
  },
  "language_info": {
   "codemirror_mode": {
    "name": "ipython",
    "version": 3
   },
   "file_extension": ".py",
   "mimetype": "text/x-python",
   "name": "python",
   "nbconvert_exporter": "python",
   "pygments_lexer": "ipython3",
   "version": "3.11.5"
  }
 },
 "nbformat": 4,
 "nbformat_minor": 5
}
