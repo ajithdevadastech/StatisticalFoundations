{
 "cells": [
  {
   "cell_type": "code",
   "execution_count": 1,
   "id": "20e2369f",
   "metadata": {},
   "outputs": [],
   "source": [
    "import numpy as np\n",
    "import pandas as pd"
   ]
  },
  {
   "cell_type": "code",
   "execution_count": 4,
   "id": "03166d6b",
   "metadata": {},
   "outputs": [
    {
     "data": {
      "text/html": [
       "<div>\n",
       "<style scoped>\n",
       "    .dataframe tbody tr th:only-of-type {\n",
       "        vertical-align: middle;\n",
       "    }\n",
       "\n",
       "    .dataframe tbody tr th {\n",
       "        vertical-align: top;\n",
       "    }\n",
       "\n",
       "    .dataframe thead th {\n",
       "        text-align: right;\n",
       "    }\n",
       "</style>\n",
       "<table border=\"1\" class=\"dataframe\">\n",
       "  <thead>\n",
       "    <tr style=\"text-align: right;\">\n",
       "      <th></th>\n",
       "      <th>page_id</th>\n",
       "      <th>name</th>\n",
       "      <th>urlslug</th>\n",
       "      <th>ID</th>\n",
       "      <th>ALIGN</th>\n",
       "      <th>EYE</th>\n",
       "      <th>HAIR</th>\n",
       "      <th>SEX</th>\n",
       "      <th>GSM</th>\n",
       "      <th>ALIVE</th>\n",
       "      <th>APPEARANCES</th>\n",
       "      <th>FIRST APPEARANCE</th>\n",
       "      <th>Year</th>\n",
       "    </tr>\n",
       "  </thead>\n",
       "  <tbody>\n",
       "    <tr>\n",
       "      <th>0</th>\n",
       "      <td>1678</td>\n",
       "      <td>Spider-Man (Peter Parker)</td>\n",
       "      <td>\\/Spider-Man_(Peter_Parker)</td>\n",
       "      <td>Secret Identity</td>\n",
       "      <td>Good Characters</td>\n",
       "      <td>Hazel Eyes</td>\n",
       "      <td>Brown Hair</td>\n",
       "      <td>Male Characters</td>\n",
       "      <td>NaN</td>\n",
       "      <td>Living Characters</td>\n",
       "      <td>4043.0</td>\n",
       "      <td>Aug-62</td>\n",
       "      <td>1962.0</td>\n",
       "    </tr>\n",
       "    <tr>\n",
       "      <th>1</th>\n",
       "      <td>7139</td>\n",
       "      <td>Captain America (Steven Rogers)</td>\n",
       "      <td>\\/Captain_America_(Steven_Rogers)</td>\n",
       "      <td>Public Identity</td>\n",
       "      <td>Good Characters</td>\n",
       "      <td>Blue Eyes</td>\n",
       "      <td>White Hair</td>\n",
       "      <td>Male Characters</td>\n",
       "      <td>NaN</td>\n",
       "      <td>Living Characters</td>\n",
       "      <td>3360.0</td>\n",
       "      <td>Mar-41</td>\n",
       "      <td>1941.0</td>\n",
       "    </tr>\n",
       "    <tr>\n",
       "      <th>2</th>\n",
       "      <td>64786</td>\n",
       "      <td>Wolverine (James \\\"Logan\\\" Howlett)</td>\n",
       "      <td>\\/Wolverine_(James_%22Logan%22_Howlett)</td>\n",
       "      <td>Public Identity</td>\n",
       "      <td>Neutral Characters</td>\n",
       "      <td>Blue Eyes</td>\n",
       "      <td>Black Hair</td>\n",
       "      <td>Male Characters</td>\n",
       "      <td>NaN</td>\n",
       "      <td>Living Characters</td>\n",
       "      <td>3061.0</td>\n",
       "      <td>Oct-74</td>\n",
       "      <td>1974.0</td>\n",
       "    </tr>\n",
       "    <tr>\n",
       "      <th>3</th>\n",
       "      <td>1868</td>\n",
       "      <td>Iron Man (Anthony \\\"Tony\\\" Stark)</td>\n",
       "      <td>\\/Iron_Man_(Anthony_%22Tony%22_Stark)</td>\n",
       "      <td>Public Identity</td>\n",
       "      <td>Good Characters</td>\n",
       "      <td>Blue Eyes</td>\n",
       "      <td>Black Hair</td>\n",
       "      <td>Male Characters</td>\n",
       "      <td>NaN</td>\n",
       "      <td>Living Characters</td>\n",
       "      <td>2961.0</td>\n",
       "      <td>Mar-63</td>\n",
       "      <td>1963.0</td>\n",
       "    </tr>\n",
       "    <tr>\n",
       "      <th>4</th>\n",
       "      <td>2460</td>\n",
       "      <td>Thor (Thor Odinson)</td>\n",
       "      <td>\\/Thor_(Thor_Odinson)</td>\n",
       "      <td>No Dual Identity</td>\n",
       "      <td>Good Characters</td>\n",
       "      <td>Blue Eyes</td>\n",
       "      <td>Blond Hair</td>\n",
       "      <td>Male Characters</td>\n",
       "      <td>NaN</td>\n",
       "      <td>Living Characters</td>\n",
       "      <td>2258.0</td>\n",
       "      <td>Nov-50</td>\n",
       "      <td>1950.0</td>\n",
       "    </tr>\n",
       "  </tbody>\n",
       "</table>\n",
       "</div>"
      ],
      "text/plain": [
       "   page_id                                 name  \\\n",
       "0     1678            Spider-Man (Peter Parker)   \n",
       "1     7139      Captain America (Steven Rogers)   \n",
       "2    64786  Wolverine (James \\\"Logan\\\" Howlett)   \n",
       "3     1868    Iron Man (Anthony \\\"Tony\\\" Stark)   \n",
       "4     2460                  Thor (Thor Odinson)   \n",
       "\n",
       "                                   urlslug                ID  \\\n",
       "0              \\/Spider-Man_(Peter_Parker)   Secret Identity   \n",
       "1        \\/Captain_America_(Steven_Rogers)   Public Identity   \n",
       "2  \\/Wolverine_(James_%22Logan%22_Howlett)   Public Identity   \n",
       "3    \\/Iron_Man_(Anthony_%22Tony%22_Stark)   Public Identity   \n",
       "4                    \\/Thor_(Thor_Odinson)  No Dual Identity   \n",
       "\n",
       "                ALIGN         EYE        HAIR              SEX  GSM  \\\n",
       "0     Good Characters  Hazel Eyes  Brown Hair  Male Characters  NaN   \n",
       "1     Good Characters   Blue Eyes  White Hair  Male Characters  NaN   \n",
       "2  Neutral Characters   Blue Eyes  Black Hair  Male Characters  NaN   \n",
       "3     Good Characters   Blue Eyes  Black Hair  Male Characters  NaN   \n",
       "4     Good Characters   Blue Eyes  Blond Hair  Male Characters  NaN   \n",
       "\n",
       "               ALIVE  APPEARANCES FIRST APPEARANCE    Year  \n",
       "0  Living Characters       4043.0           Aug-62  1962.0  \n",
       "1  Living Characters       3360.0           Mar-41  1941.0  \n",
       "2  Living Characters       3061.0           Oct-74  1974.0  \n",
       "3  Living Characters       2961.0           Mar-63  1963.0  \n",
       "4  Living Characters       2258.0           Nov-50  1950.0  "
      ]
     },
     "execution_count": 4,
     "metadata": {},
     "output_type": "execute_result"
    }
   ],
   "source": [
    "df = pd.read_csv('C:\\\\Users\\\\adevdas\\\\Downloads\\\\2049_m3_demo1_v1_kw7_omiqcui\\\\2049_m3_demo1_v1.1\\\\marveldata.csv')\n",
    "df.head()"
   ]
  },
  {
   "cell_type": "code",
   "execution_count": 5,
   "id": "175f1484",
   "metadata": {},
   "outputs": [
    {
     "data": {
      "text/plain": [
       "16376"
      ]
     },
     "execution_count": 5,
     "metadata": {},
     "output_type": "execute_result"
    }
   ],
   "source": [
    "#Step 3: Calculate total number of character counts\n",
    "x = len(df['name'])\n",
    "x"
   ]
  },
  {
   "cell_type": "code",
   "execution_count": 6,
   "id": "8ec5c60c",
   "metadata": {},
   "outputs": [
    {
     "data": {
      "text/html": [
       "<div>\n",
       "<style scoped>\n",
       "    .dataframe tbody tr th:only-of-type {\n",
       "        vertical-align: middle;\n",
       "    }\n",
       "\n",
       "    .dataframe tbody tr th {\n",
       "        vertical-align: top;\n",
       "    }\n",
       "\n",
       "    .dataframe thead th {\n",
       "        text-align: right;\n",
       "    }\n",
       "</style>\n",
       "<table border=\"1\" class=\"dataframe\">\n",
       "  <thead>\n",
       "    <tr style=\"text-align: right;\">\n",
       "      <th></th>\n",
       "      <th>SEX</th>\n",
       "      <th>EYE</th>\n",
       "      <th>HAIR</th>\n",
       "    </tr>\n",
       "  </thead>\n",
       "  <tbody>\n",
       "    <tr>\n",
       "      <th>0</th>\n",
       "      <td>Male Characters</td>\n",
       "      <td>Hazel Eyes</td>\n",
       "      <td>Brown Hair</td>\n",
       "    </tr>\n",
       "    <tr>\n",
       "      <th>1</th>\n",
       "      <td>Male Characters</td>\n",
       "      <td>Blue Eyes</td>\n",
       "      <td>White Hair</td>\n",
       "    </tr>\n",
       "    <tr>\n",
       "      <th>2</th>\n",
       "      <td>Male Characters</td>\n",
       "      <td>Blue Eyes</td>\n",
       "      <td>Black Hair</td>\n",
       "    </tr>\n",
       "    <tr>\n",
       "      <th>3</th>\n",
       "      <td>Male Characters</td>\n",
       "      <td>Blue Eyes</td>\n",
       "      <td>Black Hair</td>\n",
       "    </tr>\n",
       "    <tr>\n",
       "      <th>4</th>\n",
       "      <td>Male Characters</td>\n",
       "      <td>Blue Eyes</td>\n",
       "      <td>Blond Hair</td>\n",
       "    </tr>\n",
       "    <tr>\n",
       "      <th>...</th>\n",
       "      <td>...</td>\n",
       "      <td>...</td>\n",
       "      <td>...</td>\n",
       "    </tr>\n",
       "    <tr>\n",
       "      <th>16371</th>\n",
       "      <td>Male Characters</td>\n",
       "      <td>Green Eyes</td>\n",
       "      <td>No Hair</td>\n",
       "    </tr>\n",
       "    <tr>\n",
       "      <th>16372</th>\n",
       "      <td>Male Characters</td>\n",
       "      <td>Blue Eyes</td>\n",
       "      <td>Bald</td>\n",
       "    </tr>\n",
       "    <tr>\n",
       "      <th>16373</th>\n",
       "      <td>Male Characters</td>\n",
       "      <td>Black Eyes</td>\n",
       "      <td>Bald</td>\n",
       "    </tr>\n",
       "    <tr>\n",
       "      <th>16374</th>\n",
       "      <td>Male Characters</td>\n",
       "      <td>NaN</td>\n",
       "      <td>NaN</td>\n",
       "    </tr>\n",
       "    <tr>\n",
       "      <th>16375</th>\n",
       "      <td>NaN</td>\n",
       "      <td>NaN</td>\n",
       "      <td>NaN</td>\n",
       "    </tr>\n",
       "  </tbody>\n",
       "</table>\n",
       "<p>16376 rows × 3 columns</p>\n",
       "</div>"
      ],
      "text/plain": [
       "                   SEX         EYE        HAIR\n",
       "0      Male Characters  Hazel Eyes  Brown Hair\n",
       "1      Male Characters   Blue Eyes  White Hair\n",
       "2      Male Characters   Blue Eyes  Black Hair\n",
       "3      Male Characters   Blue Eyes  Black Hair\n",
       "4      Male Characters   Blue Eyes  Blond Hair\n",
       "...                ...         ...         ...\n",
       "16371  Male Characters  Green Eyes     No Hair\n",
       "16372  Male Characters   Blue Eyes        Bald\n",
       "16373  Male Characters  Black Eyes        Bald\n",
       "16374  Male Characters         NaN         NaN\n",
       "16375              NaN         NaN         NaN\n",
       "\n",
       "[16376 rows x 3 columns]"
      ]
     },
     "execution_count": 6,
     "metadata": {},
     "output_type": "execute_result"
    }
   ],
   "source": [
    "#Step 4: Display columns SEX, EYE, HAIR\n",
    "marvel = df[['SEX','EYE','HAIR']]\n",
    "marvel"
   ]
  },
  {
   "cell_type": "code",
   "execution_count": 8,
   "id": "4e527e2d",
   "metadata": {},
   "outputs": [
    {
     "name": "stdout",
     "output_type": "stream",
     "text": [
      "SEX\n",
      "Agender Characters           45\n",
      "Female Characters          3837\n",
      "Genderfluid Characters        2\n",
      "Male Characters           11638\n",
      "Name: name, dtype: int64\n"
     ]
    }
   ],
   "source": [
    "#Step 5: Calculate total number of characters according to gender\n",
    "char = df.groupby(['SEX']).count()['name']\n",
    "print(char)"
   ]
  },
  {
   "cell_type": "markdown",
   "id": "2441c455",
   "metadata": {},
   "source": [
    "# Marginal Probability\n",
    "Calculate the probability of character being male"
   ]
  },
  {
   "cell_type": "code",
   "execution_count": 9,
   "id": "fb5099f4",
   "metadata": {},
   "outputs": [
    {
     "data": {
      "text/plain": [
       "0.7106741573033708"
      ]
     },
     "execution_count": 9,
     "metadata": {},
     "output_type": "execute_result"
    }
   ],
   "source": [
    "#Step 6: Calculate the probability of character being male\n",
    "#Probability of character being male\n",
    "char['Male Characters']/x"
   ]
  },
  {
   "cell_type": "markdown",
   "id": "92598cd1",
   "metadata": {},
   "source": [
    "# Joint Probability\n",
    "Calculate the probability of character being female and has red hair\n",
    "Assume that both the events are independent of each other"
   ]
  },
  {
   "cell_type": "code",
   "execution_count": 11,
   "id": "522c0c2f",
   "metadata": {},
   "outputs": [
    {
     "data": {
      "text/plain": [
       "0.23430630190522717"
      ]
     },
     "execution_count": 11,
     "metadata": {},
     "output_type": "execute_result"
    }
   ],
   "source": [
    "#Step 7: Calculate probability of character being female\n",
    "female=char['Female Characters']/x\n",
    "female"
   ]
  },
  {
   "cell_type": "code",
   "execution_count": 12,
   "id": "c5614d9b",
   "metadata": {},
   "outputs": [
    {
     "name": "stdout",
     "output_type": "stream",
     "text": [
      "HAIR\n",
      "Auburn Hair                78\n",
      "Bald                      838\n",
      "Black Hair               3755\n",
      "Blond Hair               1582\n",
      "Blue Hair                  56\n",
      "Bronze Hair                 1\n",
      "Brown Hair               2339\n",
      "Dyed Hair                   1\n",
      "Gold Hair                   8\n",
      "Green Hair                117\n",
      "Grey Hair                 531\n",
      "Light Brown Hair            6\n",
      "Magenta Hair                5\n",
      "No Hair                  1176\n",
      "Orange Hair                43\n",
      "Orange-brown Hair           3\n",
      "Pink Hair                  31\n",
      "Purple Hair                47\n",
      "Red Hair                  620\n",
      "Reddish Blond Hair          6\n",
      "Silver Hair                16\n",
      "Strawberry Blond Hair      47\n",
      "Variable Hair              32\n",
      "White Hair                754\n",
      "Yellow Hair                20\n",
      "Name: name, dtype: int64\n"
     ]
    }
   ],
   "source": [
    "#Step 8: Calculate count of different hair color\n",
    "hair=df.groupby(['HAIR']).count()['name']\n",
    "print(hair)"
   ]
  },
  {
   "cell_type": "code",
   "execution_count": 13,
   "id": "1bd18cf3",
   "metadata": {},
   "outputs": [
    {
     "name": "stdout",
     "output_type": "stream",
     "text": [
      "0.03786028334147533\n"
     ]
    }
   ],
   "source": [
    "#Step 9: Calculate probability of character having red hair\n",
    "red_hair=hair['Red Hair']/x\n",
    "print(red_hair)"
   ]
  },
  {
   "cell_type": "code",
   "execution_count": 14,
   "id": "398e9df7",
   "metadata": {},
   "outputs": [
    {
     "name": "stdout",
     "output_type": "stream",
     "text": [
      "0.008870902978825162\n"
     ]
    }
   ],
   "source": [
    "#Step 10: Calculate probability of character being female and has red hair, that is, joint probability\n",
    "#Probability of character being female and has red hairs\n",
    "print(female*red_hair)"
   ]
  },
  {
   "cell_type": "code",
   "execution_count": 15,
   "id": "215a93b9",
   "metadata": {},
   "outputs": [
    {
     "name": "stdout",
     "output_type": "stream",
     "text": [
      "0.8870902978825161\n"
     ]
    }
   ],
   "source": [
    "#Step 11: Calculate joint probability in terms of percentage\n",
    "print(female*red_hair*100)"
   ]
  },
  {
   "cell_type": "markdown",
   "id": "0cf174b3",
   "metadata": {},
   "source": [
    "# Conditional Probability\n",
    "Given that character is female, calculate the probability of having green eyes"
   ]
  },
  {
   "cell_type": "code",
   "execution_count": 17,
   "id": "d76a1995",
   "metadata": {},
   "outputs": [
    {
     "data": {
      "text/plain": [
       "613"
      ]
     },
     "execution_count": 17,
     "metadata": {},
     "output_type": "execute_result"
    }
   ],
   "source": [
    "#Step 12: Calculate count of green eyes\n",
    "#Count of green eyes\n",
    "green_eyes = df[df=='Green Eyes'].EYE.count()\n",
    "green_eyes"
   ]
  },
  {
   "cell_type": "code",
   "execution_count": 18,
   "id": "8e82eed9",
   "metadata": {},
   "outputs": [
    {
     "data": {
      "text/plain": [
       "3837"
      ]
     },
     "execution_count": 18,
     "metadata": {},
     "output_type": "execute_result"
    }
   ],
   "source": [
    "#Step 13: Calculate count of female characters\n",
    "female_char = df[df.SEX=='Female Characters'].SEX.count()\n",
    "female_char"
   ]
  },
  {
   "cell_type": "code",
   "execution_count": 19,
   "id": "0e97093a",
   "metadata": {},
   "outputs": [
    {
     "data": {
      "text/plain": [
       "268"
      ]
     },
     "execution_count": 19,
     "metadata": {},
     "output_type": "execute_result"
    }
   ],
   "source": [
    "#Step 14: Calculate count of female characters with green eyes\n",
    "female_green_count = df[(df.SEX=='Female Characters') & (df.EYE=='Green Eyes')].SEX.count()\n",
    "female_green_count"
   ]
  },
  {
   "cell_type": "code",
   "execution_count": 20,
   "id": "5043bcff",
   "metadata": {},
   "outputs": [
    {
     "data": {
      "text/plain": [
       "0.016365412799218368"
      ]
     },
     "execution_count": 20,
     "metadata": {},
     "output_type": "execute_result"
    }
   ],
   "source": [
    "#Step 15: Calculate probability of female with green eyes\n",
    "prob_female_green = female_green_count/x\n",
    "prob_female_green"
   ]
  },
  {
   "cell_type": "code",
   "execution_count": 21,
   "id": "f7d392aa",
   "metadata": {},
   "outputs": [
    {
     "data": {
      "text/plain": [
       "0.23430630190522717"
      ]
     },
     "execution_count": 21,
     "metadata": {},
     "output_type": "execute_result"
    }
   ],
   "source": [
    "#Step 16: Probability of character being female\n",
    "prob_female = female_char/x\n",
    "prob_female"
   ]
  },
  {
   "cell_type": "code",
   "execution_count": 22,
   "id": "149a03ba",
   "metadata": {},
   "outputs": [
    {
     "data": {
      "text/plain": [
       "0.06984623403700807"
      ]
     },
     "execution_count": 22,
     "metadata": {},
     "output_type": "execute_result"
    }
   ],
   "source": [
    "#Step 17: Calculate conditional probability of female with green eyes\n",
    "prob_female_green/prob_female"
   ]
  },
  {
   "cell_type": "markdown",
   "id": "3a7f4c56",
   "metadata": {},
   "source": [
    "# Odds\n",
    "Calculate the odds in favour of living characters"
   ]
  },
  {
   "cell_type": "code",
   "execution_count": 23,
   "id": "789312ae",
   "metadata": {},
   "outputs": [
    {
     "data": {
      "text/plain": [
       "ALIVE\n",
       "Deceased Characters    3116\n",
       "Living Characters      9490\n",
       "Name: ID, dtype: int64"
      ]
     },
     "execution_count": 23,
     "metadata": {},
     "output_type": "execute_result"
    }
   ],
   "source": [
    "#Step 1: Calculate the count of living character\n",
    "living_characters=df.groupby(['ALIVE']).count()['ID'] # This statement returns a dataframe consisting of deceased and living characters\n",
    "#Getting count of living characters\n",
    "living_characters"
   ]
  },
  {
   "cell_type": "code",
   "execution_count": 24,
   "id": "37ef43fe",
   "metadata": {},
   "outputs": [
    {
     "name": "stdout",
     "output_type": "stream",
     "text": [
      "9490\n"
     ]
    }
   ],
   "source": [
    "living_characters=df.groupby(['ALIVE']).count()['ID'] # This statement returns a dataframe consisting of deceased and living characters\n",
    "#Getting count of living characters\n",
    "l=living_characters[1] \n",
    "print(l)"
   ]
  },
  {
   "cell_type": "code",
   "execution_count": 26,
   "id": "aac78ce9",
   "metadata": {},
   "outputs": [
    {
     "data": {
      "text/plain": [
       "0.5795065950170982"
      ]
     },
     "execution_count": 26,
     "metadata": {},
     "output_type": "execute_result"
    }
   ],
   "source": [
    "#Step 2: Calculate the probability of living characters\n",
    "prob_liv = l/x\n",
    "prob_liv"
   ]
  },
  {
   "cell_type": "code",
   "execution_count": 27,
   "id": "0f3ee53d",
   "metadata": {},
   "outputs": [
    {
     "data": {
      "text/plain": [
       "0.4204934049829018"
      ]
     },
     "execution_count": 27,
     "metadata": {},
     "output_type": "execute_result"
    }
   ],
   "source": [
    "#Step 3: Calculate number of alive characters except living characters\n",
    "y = 1-prob_liv\n",
    "y"
   ]
  },
  {
   "cell_type": "code",
   "execution_count": 28,
   "id": "a910f750",
   "metadata": {},
   "outputs": [
    {
     "data": {
      "text/plain": [
       "1.3781585826314262"
      ]
     },
     "execution_count": 28,
     "metadata": {},
     "output_type": "execute_result"
    }
   ],
   "source": [
    "#Step 4: Calculate odds in favour of living characters\n",
    "odds = prob_liv/y\n",
    "odds"
   ]
  }
 ],
 "metadata": {
  "kernelspec": {
   "display_name": "Python 3 (ipykernel)",
   "language": "python",
   "name": "python3"
  },
  "language_info": {
   "codemirror_mode": {
    "name": "ipython",
    "version": 3
   },
   "file_extension": ".py",
   "mimetype": "text/x-python",
   "name": "python",
   "nbconvert_exporter": "python",
   "pygments_lexer": "ipython3",
   "version": "3.11.5"
  }
 },
 "nbformat": 4,
 "nbformat_minor": 5
}
