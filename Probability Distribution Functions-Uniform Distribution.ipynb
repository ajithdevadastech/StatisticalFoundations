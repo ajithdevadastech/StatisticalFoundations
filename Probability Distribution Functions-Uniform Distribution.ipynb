{
 "cells": [
  {
   "cell_type": "markdown",
   "id": "14865088",
   "metadata": {},
   "source": [
    "# In this demo, you will be shown how to implement uniform distribution.\n",
    "\n",
    "Question:\n",
    "A random variable X represents the time a bank's ATM machines are used (in minutes), and it follows a uniform distribution in the interval [1, 5]. Determine (1) P(X < 2) (2) P(X > 3) (3) E(X) (4) Var(X).\n"
   ]
  },
  {
   "cell_type": "markdown",
   "id": "f53cc0b3",
   "metadata": {},
   "source": [
    "# Solution:\n",
    "Step 1: Plot the poisson distribution using random variates"
   ]
  },
  {
   "cell_type": "code",
   "execution_count": 2,
   "id": "7a8ddf73",
   "metadata": {},
   "outputs": [
    {
     "name": "stderr",
     "output_type": "stream",
     "text": [
      "C:\\Users\\adevdas\\AppData\\Local\\Temp\\ipykernel_65548\\2631266035.py:4: UserWarning: \n",
      "\n",
      "`distplot` is a deprecated function and will be removed in seaborn v0.14.0.\n",
      "\n",
      "Please adapt your code to use either `displot` (a figure-level function with\n",
      "similar flexibility) or `histplot` (an axes-level function for histograms).\n",
      "\n",
      "For a guide to updating your code to use the new functions, please see\n",
      "https://gist.github.com/mwaskom/de44147ed2974457ad6372750bbe5751\n",
      "\n",
      "  ax = sns.distplot(data_uniform,\n"
     ]
    },
    {
     "data": {
      "text/plain": [
       "<Axes: xlabel='Uniform Distribution ', ylabel='Frequency'>"
      ]
     },
     "execution_count": 2,
     "metadata": {},
     "output_type": "execute_result"
    },
    {
     "data": {
      "image/png": "[encoded data removed]",
      "text/plain": [
       "<Figure size 640x480 with 1 Axes>"
      ]
     },
     "metadata": {},
     "output_type": "display_data"
    }
   ],
   "source": [
    "import seaborn as sns\n",
    "from scipy.stats import uniform\n",
    "data_uniform = uniform.rvs(size=100,loc = 1, scale=4)\n",
    "ax = sns.distplot(data_uniform,\n",
    "                  bins=100,\n",
    "                  kde=True,\n",
    "                  color='skyblue',\n",
    "                  hist_kws={\"linewidth\": 15,'alpha':1})\n",
    "ax.set(xlabel='Uniform Distribution ', ylabel='Frequency')\n",
    "ax"
   ]
  },
  {
   "cell_type": "markdown",
   "id": "dc7b8f67",
   "metadata": {},
   "source": [
    "# Step 2: Calculate cdf of uniform distriution\n",
    "Here, cdf is used to determine the probability that a observation that is taken will be less than, greater than, equal, or between two values."
   ]
  },
  {
   "cell_type": "code",
   "execution_count": 5,
   "id": "b3df1f02",
   "metadata": {},
   "outputs": [
    {
     "data": {
      "text/plain": [
       "0.25"
      ]
     },
     "execution_count": 5,
     "metadata": {},
     "output_type": "execute_result"
    }
   ],
   "source": [
    "#1)P(X<2)\n",
    "uniform.cdf(2, loc = 1, scale=4 )"
   ]
  },
  {
   "cell_type": "code",
   "execution_count": 6,
   "id": "e0884e74",
   "metadata": {},
   "outputs": [
    {
     "data": {
      "text/plain": [
       "0.5"
      ]
     },
     "execution_count": 6,
     "metadata": {},
     "output_type": "execute_result"
    }
   ],
   "source": [
    "#2)P(X>3)\n",
    "uniform.cdf(3, loc = 1, scale=4 )"
   ]
  },
  {
   "cell_type": "code",
   "execution_count": 7,
   "id": "31b97524",
   "metadata": {},
   "outputs": [
    {
     "data": {
      "text/plain": [
       "(0.5, 0.08333333333333333)"
      ]
     },
     "execution_count": 7,
     "metadata": {},
     "output_type": "execute_result"
    }
   ],
   "source": [
    "mean, var= uniform.stats(moments='mv')\n",
    "mean, var"
   ]
  },
  {
   "cell_type": "markdown",
   "id": "a4395aa7",
   "metadata": {},
   "source": [
    "# Step 3: Calculate mean and variance¶"
   ]
  },
  {
   "cell_type": "code",
   "execution_count": 8,
   "id": "17419e16",
   "metadata": {},
   "outputs": [
    {
     "data": {
      "text/plain": [
       "3.0"
      ]
     },
     "execution_count": 8,
     "metadata": {},
     "output_type": "execute_result"
    }
   ],
   "source": [
    "uniform.mean(loc=1,scale=4)"
   ]
  },
  {
   "cell_type": "code",
   "execution_count": 9,
   "id": "f8f8575c",
   "metadata": {},
   "outputs": [
    {
     "data": {
      "text/plain": [
       "1.3333333333333333"
      ]
     },
     "execution_count": 9,
     "metadata": {},
     "output_type": "execute_result"
    }
   ],
   "source": [
    "uniform.var(loc=1,scale=4)"
   ]
  }
 ],
 "metadata": {
  "kernelspec": {
   "display_name": "Python 3 (ipykernel)",
   "language": "python",
   "name": "python3"
  },
  "language_info": {
   "codemirror_mode": {
    "name": "ipython",
    "version": 3
   },
   "file_extension": ".py",
   "mimetype": "text/x-python",
   "name": "python",
   "nbconvert_exporter": "python",
   "pygments_lexer": "ipython3",
   "version": "3.11.5"
  }
 },
 "nbformat": 4,
 "nbformat_minor": 5
}
