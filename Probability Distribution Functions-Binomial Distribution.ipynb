{
 "cells": [
  {
   "cell_type": "markdown",
   "id": "1e20960a",
   "metadata": {},
   "source": [
    "# In this demo, you will be shown how to implement binomial distribution.\n",
    "\n",
    "Question:\n",
    "Consider a coin is flipped two times, so the four possible outcomes are HH, HT, TH, and TT. What is the probability that head will occur? Also calculate mean and variance.\n",
    "\n",
    "Solution:\n",
    "So, let the variable X represent the number of Heads that result from this experiment. The variable X can take on the values 0, 1, or 2. Here, x = 0, 1, 2; P = 0.5; n = 2"
   ]
  },
  {
   "cell_type": "code",
   "execution_count": 2,
   "id": "d2a9b738",
   "metadata": {},
   "outputs": [
    {
     "name": "stderr",
     "output_type": "stream",
     "text": [
      "C:\\Users\\adevdas\\AppData\\Local\\Temp\\ipykernel_46336\\459218586.py:5: UserWarning: \n",
      "\n",
      "`distplot` is a deprecated function and will be removed in seaborn v0.14.0.\n",
      "\n",
      "Please adapt your code to use either `displot` (a figure-level function with\n",
      "similar flexibility) or `histplot` (an axes-level function for histograms).\n",
      "\n",
      "For a guide to updating your code to use the new functions, please see\n",
      "https://gist.github.com/mwaskom/de44147ed2974457ad6372750bbe5751\n",
      "\n",
      "  ax = sns.distplot(data_binom,\n"
     ]
    },
    {
     "data": {
      "text/plain": [
       "<Axes: xlabel='Binomial Distribution', ylabel='Frequency'>"
      ]
     },
     "execution_count": 2,
     "metadata": {},
     "output_type": "execute_result"
    },
    {
     "data": {
      "image/png": "[encoded data removed]",
      "text/plain": [
       "<Figure size 640x480 with 1 Axes>"
      ]
     },
     "metadata": {},
     "output_type": "display_data"
    }
   ],
   "source": [
    "#Step 1: Plot binomial distribution using random variates\n",
    "import seaborn as sns \n",
    "from scipy.stats import binom\n",
    "data_binom = binom.rvs(n=2,p=0.5,size=10000)\n",
    "ax = sns.distplot(data_binom,\n",
    "                  kde=False,\n",
    "                  color='green',\n",
    "                  hist_kws={\"linewidth\": 15,'alpha':1})\n",
    "ax.set(xlabel='Binomial Distribution', ylabel='Frequency')\n",
    "ax"
   ]
  },
  {
   "cell_type": "code",
   "execution_count": 3,
   "id": "c11432aa",
   "metadata": {},
   "outputs": [
    {
     "data": {
      "text/plain": [
       "0.24999999999999997"
      ]
     },
     "execution_count": 3,
     "metadata": {},
     "output_type": "execute_result"
    }
   ],
   "source": [
    "#Step 2: Calculate pmf of binomial distribution¶\n",
    "#Here passed parameter are k=0, n=2, p=0.5\n",
    "#for k=0\n",
    "binom.pmf(0,2,0.5,loc=0)"
   ]
  },
  {
   "cell_type": "code",
   "execution_count": 4,
   "id": "813c837c",
   "metadata": {},
   "outputs": [
    {
     "data": {
      "text/plain": [
       "0.5000000000000002"
      ]
     },
     "execution_count": 4,
     "metadata": {},
     "output_type": "execute_result"
    }
   ],
   "source": [
    "#for k=1\n",
    "binom.pmf(1,2,0.5,loc=0)"
   ]
  },
  {
   "cell_type": "code",
   "execution_count": 5,
   "id": "f8c15723",
   "metadata": {},
   "outputs": [
    {
     "data": {
      "text/plain": [
       "0.25"
      ]
     },
     "execution_count": 5,
     "metadata": {},
     "output_type": "execute_result"
    }
   ],
   "source": [
    "#for k=2\n",
    "binom.pmf(2,2,0.5,loc=0)"
   ]
  },
  {
   "cell_type": "code",
   "execution_count": 6,
   "id": "36109f55",
   "metadata": {},
   "outputs": [],
   "source": [
    "#Step 3: Calculate mean and variance"
   ]
  },
  {
   "cell_type": "code",
   "execution_count": 7,
   "id": "1d233078",
   "metadata": {},
   "outputs": [
    {
     "data": {
      "text/plain": [
       "1.0"
      ]
     },
     "execution_count": 7,
     "metadata": {},
     "output_type": "execute_result"
    }
   ],
   "source": [
    "n,p = 2,0.5\n",
    "binom.mean(n,p,loc=0)"
   ]
  },
  {
   "cell_type": "code",
   "execution_count": 8,
   "id": "8395eb61",
   "metadata": {},
   "outputs": [
    {
     "data": {
      "text/plain": [
       "0.5"
      ]
     },
     "execution_count": 8,
     "metadata": {},
     "output_type": "execute_result"
    }
   ],
   "source": [
    "binom.var(n,p,loc=0)"
   ]
  }
 ],
 "metadata": {
  "kernelspec": {
   "display_name": "Python 3 (ipykernel)",
   "language": "python",
   "name": "python3"
  },
  "language_info": {
   "codemirror_mode": {
    "name": "ipython",
    "version": 3
   },
   "file_extension": ".py",
   "mimetype": "text/x-python",
   "name": "python",
   "nbconvert_exporter": "python",
   "pygments_lexer": "ipython3",
   "version": "3.11.5"
  }
 },
 "nbformat": 4,
 "nbformat_minor": 5
}
