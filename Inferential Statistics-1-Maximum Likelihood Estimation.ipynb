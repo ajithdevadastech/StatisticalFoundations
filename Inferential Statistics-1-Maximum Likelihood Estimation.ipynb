{
 "cells": [
  {
   "cell_type": "code",
   "execution_count": 1,
   "id": "a21482dc",
   "metadata": {},
   "outputs": [],
   "source": [
    "#Import the required library\n",
    "import pandas as pd\n",
    "import numpy as np"
   ]
  },
  {
   "cell_type": "code",
   "execution_count": 2,
   "id": "e0021b3c",
   "metadata": {},
   "outputs": [
    {
     "data": {
      "text/plain": [
       "0.3989422804014327"
      ]
     },
     "execution_count": 2,
     "metadata": {},
     "output_type": "execute_result"
    }
   ],
   "source": [
    "#Let’s say our sample is 3, what is the probability that it comes from a distribution of μ = 3 and σ = 1?\n",
    "from scipy.stats import norm\n",
    "norm.pdf(3,3,1)"
   ]
  },
  {
   "cell_type": "code",
   "execution_count": 3,
   "id": "c9c3cc7c",
   "metadata": {},
   "outputs": [
    {
     "data": {
      "text/plain": [
       "0.02699548325659403"
      ]
     },
     "execution_count": 3,
     "metadata": {},
     "output_type": "execute_result"
    }
   ],
   "source": [
    "#What if it came from a distribution with μ = 7 and σ = 2?\n",
    "norm.pdf(3,7,2)"
   ]
  },
  {
   "cell_type": "code",
   "execution_count": 4,
   "id": "cd12b183",
   "metadata": {},
   "outputs": [
    {
     "data": {
      "text/plain": [
       "0.0029150244650281948"
      ]
     },
     "execution_count": 4,
     "metadata": {},
     "output_type": "execute_result"
    }
   ],
   "source": [
    "#The probability that samples 2 and 6 are drawn from a distribution with μ = 4 and σ = 1?\n",
    "norm.pdf(2, 4, 1)*norm.pdf(6, 4, 1)"
   ]
  }
 ],
 "metadata": {
  "kernelspec": {
   "display_name": "Python 3 (ipykernel)",
   "language": "python",
   "name": "python3"
  },
  "language_info": {
   "codemirror_mode": {
    "name": "ipython",
    "version": 3
   },
   "file_extension": ".py",
   "mimetype": "text/x-python",
   "name": "python",
   "nbconvert_exporter": "python",
   "pygments_lexer": "ipython3",
   "version": "3.11.5"
  }
 },
 "nbformat": 4,
 "nbformat_minor": 5
}
