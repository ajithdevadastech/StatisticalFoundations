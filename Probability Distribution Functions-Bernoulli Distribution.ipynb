{
 "cells": [
  {
   "cell_type": "markdown",
   "id": "5e49f079",
   "metadata": {},
   "source": [
    "# In this demo, you will be shown how to implement Bernoulli distribution.\n",
    "\n",
    "Question:\n",
    "The final match of basketball is going to be between teams A and B. Random variable X represents the team that will win the Cup. The probability of team A winning is 0.60. Determine the distribution of X, in addition to X’s expected value and variance."
   ]
  },
  {
   "cell_type": "code",
   "execution_count": 1,
   "id": "34f3bc49",
   "metadata": {},
   "outputs": [],
   "source": [
    "#Step 1: Plot Bernoulli distribution using random variants"
   ]
  },
  {
   "cell_type": "code",
   "execution_count": 2,
   "id": "b6be4cd1",
   "metadata": {},
   "outputs": [
    {
     "name": "stderr",
     "output_type": "stream",
     "text": [
      "C:\\Users\\adevdas\\AppData\\Local\\Temp\\ipykernel_35728\\2894465197.py:5: UserWarning: \n",
      "\n",
      "`distplot` is a deprecated function and will be removed in seaborn v0.14.0.\n",
      "\n",
      "Please adapt your code to use either `displot` (a figure-level function with\n",
      "similar flexibility) or `histplot` (an axes-level function for histograms).\n",
      "\n",
      "For a guide to updating your code to use the new functions, please see\n",
      "https://gist.github.com/mwaskom/de44147ed2974457ad6372750bbe5751\n",
      "\n",
      "  ax= sns.distplot(data_bern,\n"
     ]
    },
    {
     "data": {
      "text/plain": [
       "<Axes: xlabel='Bernoulli Distribution', ylabel='Frequency'>"
      ]
     },
     "execution_count": 2,
     "metadata": {},
     "output_type": "execute_result"
    },
    {
     "data": {
      "image/png": "[encoded data removed]",
      "text/plain": [
       "<Figure size 640x480 with 1 Axes>"
      ]
     },
     "metadata": {},
     "output_type": "display_data"
    }
   ],
   "source": [
    "import numpy as np\n",
    "import seaborn as sns\n",
    "from scipy.stats import bernoulli\n",
    "data_bern = bernoulli.rvs(size=10000,p=0.6)\n",
    "ax= sns.distplot(data_bern,\n",
    "                 kde=False,\n",
    "                 color=\"green\",\n",
    "                 hist_kws={\"linewidth\": 15,'alpha':1})\n",
    "ax.set(xlabel='Bernoulli Distribution', ylabel='Frequency')\n",
    "ax"
   ]
  },
  {
   "cell_type": "code",
   "execution_count": 3,
   "id": "02368b44",
   "metadata": {},
   "outputs": [],
   "source": [
    "#Step 2: Calculate pmf of Bernoullli distribution"
   ]
  },
  {
   "cell_type": "code",
   "execution_count": 4,
   "id": "aeffa54d",
   "metadata": {},
   "outputs": [
    {
     "data": {
      "text/plain": [
       "0.4000000000000001"
      ]
     },
     "execution_count": 4,
     "metadata": {},
     "output_type": "execute_result"
    }
   ],
   "source": [
    "#Here, parameter passed are x=0, p=0.6\n",
    "#for x=0\n",
    "bernoulli.pmf(0,0.6)"
   ]
  },
  {
   "cell_type": "code",
   "execution_count": 5,
   "id": "6b67dd47",
   "metadata": {},
   "outputs": [
    {
     "data": {
      "text/plain": [
       "0.6"
      ]
     },
     "execution_count": 5,
     "metadata": {},
     "output_type": "execute_result"
    }
   ],
   "source": [
    "#for x=1\n",
    "bernoulli.pmf(1,0.6)"
   ]
  },
  {
   "cell_type": "code",
   "execution_count": 6,
   "id": "6d6dec31",
   "metadata": {},
   "outputs": [],
   "source": [
    "#Step 3: Calculate mean and variance¶"
   ]
  },
  {
   "cell_type": "code",
   "execution_count": 8,
   "id": "f6783950",
   "metadata": {},
   "outputs": [
    {
     "data": {
      "text/plain": [
       "0.6"
      ]
     },
     "execution_count": 8,
     "metadata": {},
     "output_type": "execute_result"
    }
   ],
   "source": [
    "p=0.6\n",
    "bernoulli.mean(p,loc=0)"
   ]
  },
  {
   "cell_type": "code",
   "execution_count": 9,
   "id": "449720db",
   "metadata": {},
   "outputs": [
    {
     "data": {
      "text/plain": [
       "0.24"
      ]
     },
     "execution_count": 9,
     "metadata": {},
     "output_type": "execute_result"
    }
   ],
   "source": [
    "bernoulli.var(p,loc=0)"
   ]
  }
 ],
 "metadata": {
  "kernelspec": {
   "display_name": "Python 3 (ipykernel)",
   "language": "python",
   "name": "python3"
  },
  "language_info": {
   "codemirror_mode": {
    "name": "ipython",
    "version": 3
   },
   "file_extension": ".py",
   "mimetype": "text/x-python",
   "name": "python",
   "nbconvert_exporter": "python",
   "pygments_lexer": "ipython3",
   "version": "3.11.5"
  }
 },
 "nbformat": 4,
 "nbformat_minor": 5
}
