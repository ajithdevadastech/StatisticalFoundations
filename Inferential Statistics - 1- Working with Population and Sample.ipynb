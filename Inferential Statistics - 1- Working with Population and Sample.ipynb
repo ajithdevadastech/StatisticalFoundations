{
 "cells": [
  {
   "cell_type": "code",
   "execution_count": 1,
   "id": "e9e610c4",
   "metadata": {},
   "outputs": [],
   "source": [
    "#In this demo, you will be shown how to calculate population and sample mean and standard deviation."
   ]
  },
  {
   "cell_type": "code",
   "execution_count": 2,
   "id": "b2e8746d",
   "metadata": {},
   "outputs": [],
   "source": [
    "#Step1: Import the required library\n",
    "import pandas as pd\n",
    "import numpy as np"
   ]
  },
  {
   "cell_type": "code",
   "execution_count": 3,
   "id": "015774b7",
   "metadata": {},
   "outputs": [
    {
     "data": {
      "text/html": [
       "<div>\n",
       "<style scoped>\n",
       "    .dataframe tbody tr th:only-of-type {\n",
       "        vertical-align: middle;\n",
       "    }\n",
       "\n",
       "    .dataframe tbody tr th {\n",
       "        vertical-align: top;\n",
       "    }\n",
       "\n",
       "    .dataframe thead th {\n",
       "        text-align: right;\n",
       "    }\n",
       "</style>\n",
       "<table border=\"1\" class=\"dataframe\">\n",
       "  <thead>\n",
       "    <tr style=\"text-align: right;\">\n",
       "      <th></th>\n",
       "      <th>model</th>\n",
       "      <th>mpg</th>\n",
       "      <th>cyl</th>\n",
       "      <th>disp</th>\n",
       "      <th>hp</th>\n",
       "      <th>drat</th>\n",
       "      <th>wt</th>\n",
       "      <th>qsec</th>\n",
       "      <th>vs</th>\n",
       "      <th>am</th>\n",
       "      <th>gear</th>\n",
       "      <th>carb</th>\n",
       "    </tr>\n",
       "  </thead>\n",
       "  <tbody>\n",
       "    <tr>\n",
       "      <th>0</th>\n",
       "      <td>Mazda RX4</td>\n",
       "      <td>21.0</td>\n",
       "      <td>6</td>\n",
       "      <td>160.0</td>\n",
       "      <td>110</td>\n",
       "      <td>3.90</td>\n",
       "      <td>2.620</td>\n",
       "      <td>16.46</td>\n",
       "      <td>0</td>\n",
       "      <td>1</td>\n",
       "      <td>4</td>\n",
       "      <td>4</td>\n",
       "    </tr>\n",
       "    <tr>\n",
       "      <th>1</th>\n",
       "      <td>Mazda RX4 Wag</td>\n",
       "      <td>21.0</td>\n",
       "      <td>6</td>\n",
       "      <td>160.0</td>\n",
       "      <td>110</td>\n",
       "      <td>3.90</td>\n",
       "      <td>2.875</td>\n",
       "      <td>17.02</td>\n",
       "      <td>0</td>\n",
       "      <td>1</td>\n",
       "      <td>4</td>\n",
       "      <td>4</td>\n",
       "    </tr>\n",
       "    <tr>\n",
       "      <th>2</th>\n",
       "      <td>Datsun 710</td>\n",
       "      <td>22.8</td>\n",
       "      <td>4</td>\n",
       "      <td>108.0</td>\n",
       "      <td>93</td>\n",
       "      <td>3.85</td>\n",
       "      <td>2.320</td>\n",
       "      <td>18.61</td>\n",
       "      <td>1</td>\n",
       "      <td>1</td>\n",
       "      <td>4</td>\n",
       "      <td>1</td>\n",
       "    </tr>\n",
       "    <tr>\n",
       "      <th>3</th>\n",
       "      <td>Hornet 4 Drive</td>\n",
       "      <td>21.4</td>\n",
       "      <td>6</td>\n",
       "      <td>258.0</td>\n",
       "      <td>110</td>\n",
       "      <td>3.08</td>\n",
       "      <td>3.215</td>\n",
       "      <td>19.44</td>\n",
       "      <td>1</td>\n",
       "      <td>0</td>\n",
       "      <td>3</td>\n",
       "      <td>1</td>\n",
       "    </tr>\n",
       "    <tr>\n",
       "      <th>4</th>\n",
       "      <td>Hornet Sportabout</td>\n",
       "      <td>18.7</td>\n",
       "      <td>8</td>\n",
       "      <td>360.0</td>\n",
       "      <td>175</td>\n",
       "      <td>3.15</td>\n",
       "      <td>3.440</td>\n",
       "      <td>17.02</td>\n",
       "      <td>0</td>\n",
       "      <td>0</td>\n",
       "      <td>3</td>\n",
       "      <td>2</td>\n",
       "    </tr>\n",
       "  </tbody>\n",
       "</table>\n",
       "</div>"
      ],
      "text/plain": [
       "               model   mpg  cyl   disp   hp  drat     wt   qsec  vs  am  gear  \\\n",
       "0          Mazda RX4  21.0    6  160.0  110  3.90  2.620  16.46   0   1     4   \n",
       "1      Mazda RX4 Wag  21.0    6  160.0  110  3.90  2.875  17.02   0   1     4   \n",
       "2         Datsun 710  22.8    4  108.0   93  3.85  2.320  18.61   1   1     4   \n",
       "3     Hornet 4 Drive  21.4    6  258.0  110  3.08  3.215  19.44   1   0     3   \n",
       "4  Hornet Sportabout  18.7    8  360.0  175  3.15  3.440  17.02   0   0     3   \n",
       "\n",
       "   carb  \n",
       "0     4  \n",
       "1     4  \n",
       "2     1  \n",
       "3     1  \n",
       "4     2  "
      ]
     },
     "execution_count": 3,
     "metadata": {},
     "output_type": "execute_result"
    }
   ],
   "source": [
    "#Step2: Read data from the uploaded csv file\n",
    "cars = pd.read_csv(\"C:\\\\Users\\\\adevdas\\\\Downloads\\\\2049_m5_demo1_v1_6j6_tbhd6im\\\\2049_m5_demo1_v1.1\\\\mtcars.csv\")\n",
    "cars.head()"
   ]
  },
  {
   "cell_type": "code",
   "execution_count": 4,
   "id": "c9fce2ce",
   "metadata": {},
   "outputs": [],
   "source": [
    "#Calculate population mean and population standard deviation for mpg column."
   ]
  },
  {
   "cell_type": "code",
   "execution_count": 5,
   "id": "fd175374",
   "metadata": {},
   "outputs": [
    {
     "name": "stdout",
     "output_type": "stream",
     "text": [
      "20.090625000000003 6.026948052089105\n"
     ]
    }
   ],
   "source": [
    "#Step3: Calculate population mean and population standard deviation\n",
    "population_mpg = cars.mpg\n",
    "mu = population_mpg.mean()\n",
    "sigma = population_mpg.std()\n",
    "print(mu, sigma)"
   ]
  },
  {
   "cell_type": "code",
   "execution_count": 6,
   "id": "3c676c82",
   "metadata": {},
   "outputs": [],
   "source": [
    "#Draw samples from the population and calculate their mean and standard deviation values using Pandas."
   ]
  },
  {
   "cell_type": "code",
   "execution_count": 7,
   "id": "d8105cc0",
   "metadata": {},
   "outputs": [],
   "source": [
    "#Step4: Draw sample of 20 using pandas\n",
    "sample_size = 20\n",
    "sample = cars.sample(n=sample_size, random_state=1).mpg"
   ]
  },
  {
   "cell_type": "code",
   "execution_count": 8,
   "id": "64a599b8",
   "metadata": {},
   "outputs": [
    {
     "name": "stdout",
     "output_type": "stream",
     "text": [
      "Sample mean is 21.29 compared with population mean of 20.09\n",
      "Diff betweeen sample and population mean: 1.2043749999999953\n",
      "\n",
      "Sample std. deviation is 6.92 compared with population mean of 6.03\n",
      "Diff betweeen sample and population std. deviation: 0.8979479190086792\n"
     ]
    }
   ],
   "source": [
    "#Step5: Calculate sample mean and sample standard deviation using pandas\n",
    "sample_mu_p = sample.mean()\n",
    "sample_sigma_p = sample.std()\n",
    "print(\"Sample mean is %.2f compared with population mean of %.2f\" %(sample_mu_p, mu))\n",
    "print(\"Diff betweeen sample and population mean:\", sample_mu_p - mu)\n",
    "\n",
    "print(\"\\nSample std. deviation is %.2f compared with population mean of %.2f\" %(sample_sigma_p, sigma))\n",
    "print(\"Diff betweeen s#Step6: Draw sample of 20 using numpy\n",
    "sample_size = 20\n",
    "np.random.seed(1)\n",
    "sample_mpg = np.random.choice(a = cars[\"mpg\"], size = sample_size)ample and population std. deviation:\", sample_sigma_p - sigma)"
   ]
  },
  {
   "cell_type": "code",
   "execution_count": 9,
   "id": "2355d72c",
   "metadata": {},
   "outputs": [],
   "source": [
    "#Draw samples from the population and calculate their mean and standard deviation values using NumPy."
   ]
  },
  {
   "cell_type": "code",
   "execution_count": 10,
   "id": "03c82e6a",
   "metadata": {},
   "outputs": [],
   "source": [
    "#Step6: Draw sample of 20 using numpy\n",
    "sample_size = 20\n",
    "np.random.seed(1)\n",
    "sample_mpg = np.random.choice(a = cars[\"mpg\"], size = sample_size)"
   ]
  },
  {
   "cell_type": "code",
   "execution_count": 11,
   "id": "ddea5fc8",
   "metadata": {},
   "outputs": [
    {
     "name": "stdout",
     "output_type": "stream",
     "text": [
      "Sample mean is 19.15 compared with population mean of 20.09\n",
      "Diff betweeen sample and population mean: -0.9406250000000043\n",
      "\n",
      "Sample std. deviation is 4.59 compared with population mean of 6.03\n",
      "Diff betweeen sample and population std. deviation: -1.4324404614979214\n"
     ]
    }
   ],
   "source": [
    "#Step7: Calculate sample mean and sample standard deviation using numpy\n",
    "sample_mu_n = sample_mpg.mean()\n",
    "sample_sigma_n = sample_mpg.std()\n",
    "print(\"Sample mean is %.2f compared with population mean of %.2f\" %(sample_mu_n, mu))\n",
    "print(\"Diff betweeen sample and population mean:\", sample_mu_n - mu)\n",
    "\n",
    "print(\"\\nSample std. deviation is %.2f compared with population mean of %.2f\" %(sample_sigma_n, sigma))\n",
    "print(\"Diff betweeen sample and population std. deviation:\", sample_sigma_n - sigma)"
   ]
  }
 ],
 "metadata": {
  "kernelspec": {
   "display_name": "Python 3 (ipykernel)",
   "language": "python",
   "name": "python3"
  },
  "language_info": {
   "codemirror_mode": {
    "name": "ipython",
    "version": 3
   },
   "file_extension": ".py",
   "mimetype": "text/x-python",
   "name": "python",
   "nbconvert_exporter": "python",
   "pygments_lexer": "ipython3",
   "version": "3.11.5"
  }
 },
 "nbformat": 4,
 "nbformat_minor": 5
}
